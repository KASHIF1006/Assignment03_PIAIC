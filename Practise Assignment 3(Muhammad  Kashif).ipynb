{
 "cells": [
  {
   "cell_type": "markdown",
   "metadata": {},
   "source": [
    "# Q1:"
   ]
  },
  {
   "cell_type": "markdown",
   "metadata": {},
   "source": [
    "Think of at least three kinds of your favorite pizza. Store these pizza names in a list, and then use a for loop to print the name of each pizza."
   ]
  },
  {
   "cell_type": "code",
   "execution_count": 1,
   "metadata": {},
   "outputs": [],
   "source": [
    "#Creating a list :"
   ]
  },
  {
   "cell_type": "code",
   "execution_count": 2,
   "metadata": {},
   "outputs": [
    {
     "name": "stdout",
     "output_type": "stream",
     "text": [
      "Barbeque\n",
      "Chicken Fajita\n",
      "Chicken Supremo\n"
     ]
    }
   ],
   "source": [
    "favPizza = ['Barbeque','Chicken Fajita','Chicken Supremo']\n",
    "\n",
    "#Printing the list using for loop:\n",
    "\n",
    "for i in favPizza :\n",
    "    print(i)"
   ]
  },
  {
   "cell_type": "markdown",
   "metadata": {},
   "source": [
    "# Q2"
   ]
  },
  {
   "cell_type": "markdown",
   "metadata": {},
   "source": [
    "Start with your last question , Modify your for loop to print a sentence using the name of the pizza\n",
    "instead of printing just the name of the pizza. For each pizza you should\n",
    "have one line of output containing a simple statement like I like pepperoni\n",
    "pizza."
   ]
  },
  {
   "cell_type": "code",
   "execution_count": 3,
   "metadata": {},
   "outputs": [],
   "source": [
    "#Creating a list :"
   ]
  },
  {
   "cell_type": "code",
   "execution_count": 4,
   "metadata": {},
   "outputs": [
    {
     "name": "stdout",
     "output_type": "stream",
     "text": [
      " - I like Chicken Fajita pizza.\n",
      " - I like Chicken Barbeque pizza.\n",
      " - I like Chicken Supremo pizza.\n"
     ]
    }
   ],
   "source": [
    "favPizza = ['Chicken Fajita','Chicken Barbeque','Chicken Supremo']\n",
    "\n",
    "#Printing the list with statement using  for loop : \n",
    "\n",
    "for i in favPizza :\n",
    "    print(\" - I like\",i,\"pizza.\")\n"
   ]
  },
  {
   "cell_type": "markdown",
   "metadata": {},
   "source": [
    "# Q3:"
   ]
  },
  {
   "cell_type": "markdown",
   "metadata": {},
   "source": [
    "Use a for loop to print the numbers from 1 to 20,\n",
    "inclusive."
   ]
  },
  {
   "cell_type": "code",
   "execution_count": 5,
   "metadata": {},
   "outputs": [],
   "source": [
    "#Printing number 1 to 20 using for loop :"
   ]
  },
  {
   "cell_type": "code",
   "execution_count": 6,
   "metadata": {},
   "outputs": [
    {
     "name": "stdout",
     "output_type": "stream",
     "text": [
      " - 1\n",
      " - 2\n",
      " - 3\n",
      " - 4\n",
      " - 5\n",
      " - 6\n",
      " - 7\n",
      " - 8\n",
      " - 9\n",
      " - 10\n",
      " - 11\n",
      " - 12\n",
      " - 13\n",
      " - 14\n",
      " - 15\n",
      " - 16\n",
      " - 17\n",
      " - 18\n",
      " - 19\n",
      " - 20\n"
     ]
    }
   ],
   "source": [
    "for i in range(1,21):\n",
    "    print(\" -\",i)"
   ]
  },
  {
   "cell_type": "markdown",
   "metadata": {},
   "source": [
    "# Q4:"
   ]
  },
  {
   "cell_type": "markdown",
   "metadata": {},
   "source": [
    "Use the third argument of the range() function to make a list\n",
    "of the odd numbers from 1 to 20. Use a for loop to print each number."
   ]
  },
  {
   "cell_type": "code",
   "execution_count": 7,
   "metadata": {},
   "outputs": [],
   "source": [
    "#Printing odd number 1 to 20 using for loop :"
   ]
  },
  {
   "cell_type": "code",
   "execution_count": 8,
   "metadata": {},
   "outputs": [
    {
     "name": "stdout",
     "output_type": "stream",
     "text": [
      " - 1\n",
      " - 3\n",
      " - 5\n",
      " - 7\n",
      " - 9\n",
      " - 11\n",
      " - 13\n",
      " - 15\n",
      " - 17\n",
      " - 19\n"
     ]
    }
   ],
   "source": [
    "for i in range(1,21,2) :\n",
    "    print(\" -\",i)"
   ]
  },
  {
   "cell_type": "markdown",
   "metadata": {},
   "source": [
    "# Q5:"
   ]
  },
  {
   "cell_type": "markdown",
   "metadata": {},
   "source": [
    "Make a list of the multiples of 3 from 3 to 30. Use a for loop to\n",
    "print the numbers in your list."
   ]
  },
  {
   "cell_type": "code",
   "execution_count": 9,
   "metadata": {},
   "outputs": [],
   "source": [
    "#Creating a list of Multiples of 3 from 3 to 30 : "
   ]
  },
  {
   "cell_type": "code",
   "execution_count": 10,
   "metadata": {},
   "outputs": [
    {
     "name": "stdout",
     "output_type": "stream",
     "text": [
      " - 3\n",
      " - 6\n",
      " - 9\n",
      " - 12\n",
      " - 15\n",
      " - 18\n",
      " - 21\n",
      " - 24\n",
      " - 27\n",
      " - 30\n"
     ]
    }
   ],
   "source": [
    "multipleOfThree = [3,6,9,12,15,18,21,24,27,30]\n",
    "\n",
    "#Printing List using for loop : \n",
    "for i in multipleOfThree : \n",
    "    print(\" -\",i)"
   ]
  },
  {
   "cell_type": "markdown",
   "metadata": {},
   "source": [
    "# Q6:"
   ]
  },
  {
   "cell_type": "markdown",
   "metadata": {},
   "source": [
    "A number raised to the third power is called a cube. For example,\n",
    "the cube of 2 is written as 2**3 in Python. Make a list of the first 10 cubes (that\n",
    "is, the cube of each integer from 1 through 10), and use a for loop to print out\n",
    "the value of each cube"
   ]
  },
  {
   "cell_type": "code",
   "execution_count": 11,
   "metadata": {},
   "outputs": [
    {
     "name": "stdout",
     "output_type": "stream",
     "text": [
      " - The Cube of 1 = 1\n",
      " - The Cube of 2 = 8\n",
      " - The Cube of 3 = 27\n",
      " - The Cube of 4 = 64\n",
      " - The Cube of 5 = 125\n",
      " - The Cube of 6 = 216\n",
      " - The Cube of 7 = 343\n",
      " - The Cube of 8 = 512\n",
      " - The Cube of 9 = 729\n",
      " - The Cube of 10 = 1000\n"
     ]
    }
   ],
   "source": [
    "#Creating a list : \n",
    "listCube = [1,2,3,4,5,6,7,8,9,10]\n",
    "\n",
    "#Using for Loop : \n",
    "for i in listCube:\n",
    "    print(\" - The Cube of\",i,\"=\",i**3)"
   ]
  },
  {
   "cell_type": "markdown",
   "metadata": {},
   "source": [
    "# Q7:"
   ]
  },
  {
   "cell_type": "markdown",
   "metadata": {},
   "source": [
    "###### Make a python program that conatains your nine favourite dishes in a list called foods.\n",
    "\n",
    "###### Print the message, The first three items in the list are:. \n",
    "###### Then use a slice to print the first three items from that program’s list.\n",
    "\n",
    "###### Print the message, Three items from the middle of the list are:\n",
    "###### Use a slice to print three items from the middle of the list.\n",
    "\n",
    "###### Print the message, The last three items in the list are:\n",
    "###### Use a slice to print the last three items in the list."
   ]
  },
  {
   "cell_type": "code",
   "execution_count": 12,
   "metadata": {},
   "outputs": [],
   "source": [
    "#Creating List : "
   ]
  },
  {
   "cell_type": "code",
   "execution_count": 13,
   "metadata": {},
   "outputs": [
    {
     "name": "stdout",
     "output_type": "stream",
     "text": [
      " 1). My first favourite dishes are : \n"
     ]
    },
    {
     "data": {
      "text/plain": [
       "['Chicken Tikka', 'Chicken Biryani', 'Chicken Pulao']"
      ]
     },
     "execution_count": 13,
     "metadata": {},
     "output_type": "execute_result"
    }
   ],
   "source": [
    "foodList = ['Chicken Tikka','Chicken Biryani','Chicken Pulao','Chicken roll','Macroni','Beef Seekh Kabab','Pizza','Zinger','Malai Boti',]\n",
    "\n",
    "#Printing the first three Dishes : \n",
    "print(\" 1). My first favourite dishes are : \")\n",
    "foodList[0:3]"
   ]
  },
  {
   "cell_type": "code",
   "execution_count": 14,
   "metadata": {},
   "outputs": [
    {
     "name": "stdout",
     "output_type": "stream",
     "text": [
      " 2). My middle three favourite dishes are : \n"
     ]
    },
    {
     "data": {
      "text/plain": [
       "['Chicken roll', 'Macroni', 'Beef Seekh Kabab']"
      ]
     },
     "execution_count": 14,
     "metadata": {},
     "output_type": "execute_result"
    }
   ],
   "source": [
    "print(\" 2). My middle three favourite dishes are : \")\n",
    "\n",
    "foodList[3:6]"
   ]
  },
  {
   "cell_type": "code",
   "execution_count": 15,
   "metadata": {},
   "outputs": [
    {
     "name": "stdout",
     "output_type": "stream",
     "text": [
      " 2). My last three favourite dishes are : \n"
     ]
    },
    {
     "data": {
      "text/plain": [
       "['Pizza', 'Zinger', 'Malai Boti']"
      ]
     },
     "execution_count": 15,
     "metadata": {},
     "output_type": "execute_result"
    }
   ],
   "source": [
    "print(\" 2). My last three favourite dishes are : \")\n",
    "\n",
    "foodList[6:9]"
   ]
  },
  {
   "cell_type": "markdown",
   "metadata": {},
   "source": [
    "# Q8:"
   ]
  },
  {
   "cell_type": "markdown",
   "metadata": {},
   "source": [
    "### Start with your program from your last Question8.\n",
    "###### Make a copy of the list of foods, and call it friend_foods.\n",
    "###### Then, do the following:\n",
    "######    Add a new dish to the original list.\n",
    "######    Add a different dish to the list friend_foodss.\n",
    "######    Prove that you have two separate lists. \n",
    "###### Print the message, My favorite pizzas are: and then use a for loop to print the first list. \n",
    "###### Print the message,\n",
    "###### My friend’s favorite foods are:, and then use a for loop to print the second list.\n",
    "    \n",
    "##### NOTE: Make sure each new dish is stored in the appropriate list."
   ]
  },
  {
   "cell_type": "code",
   "execution_count": 16,
   "metadata": {},
   "outputs": [],
   "source": [
    "friend_foods = foodList[0:9]"
   ]
  },
  {
   "cell_type": "code",
   "execution_count": 17,
   "metadata": {},
   "outputs": [],
   "source": [
    "foodList.append(\"bun Kabab\")"
   ]
  },
  {
   "cell_type": "code",
   "execution_count": 18,
   "metadata": {},
   "outputs": [],
   "source": [
    "friend_foods.append (\"Reshmi Kabab\")"
   ]
  },
  {
   "cell_type": "code",
   "execution_count": 19,
   "metadata": {},
   "outputs": [
    {
     "name": "stdout",
     "output_type": "stream",
     "text": [
      " 1). Original List is :  ['Chicken Tikka', 'Chicken Biryani', 'Chicken Pulao', 'Chicken roll', 'Macroni', 'Beef Seekh Kabab', 'Pizza', 'Zinger', 'Malai Boti', 'bun Kabab']\n",
      "\n",
      "\n",
      " 2).  Friend Favourite Food List is :  ['Chicken Tikka', 'Chicken Biryani', 'Chicken Pulao', 'Chicken roll', 'Macroni', 'Beef Seekh Kabab', 'Pizza', 'Zinger', 'Malai Boti', 'Reshmi Kabab']\n",
      "\n",
      "\n",
      " Hence, Both List are not Same.\n"
     ]
    }
   ],
   "source": [
    "print(\" 1). Original List is : \",foodList) \n",
    "print(\"\\n\\n 2).  Friend Favourite Food List is : \",friend_foods)\n",
    "print(\"\\n\")\n",
    "print(\" Hence, Both List are not Same.\")"
   ]
  },
  {
   "cell_type": "code",
   "execution_count": 20,
   "metadata": {},
   "outputs": [
    {
     "name": "stdout",
     "output_type": "stream",
     "text": [
      "My Favorite Pizzas are: \n",
      "\n",
      " - Chicken Fajita\n",
      " - Chicken Barbeque\n",
      " - Chicken Supremo\n",
      "\n",
      "My friend’s favourite foods are : \n",
      "\n",
      " - Chicken Tikka\n",
      " - Chicken Biryani\n",
      " - Chicken Pulao\n",
      " - Chicken roll\n",
      " - Macroni\n",
      " - Beef Seekh Kabab\n",
      " - Pizza\n",
      " - Zinger\n",
      " - Malai Boti\n",
      " - bun Kabab\n"
     ]
    }
   ],
   "source": [
    "print(\"My Favorite Pizzas are: \\n\")\n",
    "for i in favPizza :\n",
    "    print(\" -\",i)\n",
    "\n",
    "print(\"\\nMy friend’s favourite foods are : \\n\")\n",
    "\n",
    "for j in foodList :\n",
    "    print(\" -\",j)"
   ]
  },
  {
   "cell_type": "markdown",
   "metadata": {},
   "source": [
    "# Q9:"
   ]
  },
  {
   "cell_type": "markdown",
   "metadata": {},
   "source": [
    "Take a user input from console line.Store it in a variable called Alien_color.\n",
    "\n",
    "If the alien’s color is red, print a statement that the player just earned 5 points for shooting the alien.\n",
    "\n",
    "If the alien’s color isn’t green, print a statement that the player just earned 10 points.\n",
    "\n",
    "If the alien's color isn't red or green , print a statment :, Alien is no more....."
   ]
  },
  {
   "cell_type": "code",
   "execution_count": 21,
   "metadata": {},
   "outputs": [
    {
     "name": "stdout",
     "output_type": "stream",
     "text": [
      " 1). Enter Alien color : red\n",
      "\n",
      " - The player just earned 5 points for shooting the alien\n"
     ]
    }
   ],
   "source": [
    "Alien_color = input(\" 1). Enter Alien color : \")\n",
    "\n",
    "if(Alien_color == 'red'):\n",
    "    print(\"\\n - The player just earned 5 points for shooting the alien\")\n",
    "\n",
    "elif (Alien_color == 'green'):\n",
    "    print(\"\\n - The player just earned 10 points.\")\n",
    "\n",
    "else :\n",
    "    print(\"\\n - Alien is no more.....\")"
   ]
  },
  {
   "cell_type": "code",
   "execution_count": 22,
   "metadata": {},
   "outputs": [
    {
     "name": "stdout",
     "output_type": "stream",
     "text": [
      " 1). Enter Alien color : green\n",
      " - The player just earned 10 points.\n"
     ]
    }
   ],
   "source": [
    "Alien_color = input(\" 1). Enter Alien color : \")\n",
    "\n",
    "if(Alien_color == 'red'):\n",
    "    print(\" - The player just earned 5 points for shooting the alien\")\n",
    "\n",
    "elif (Alien_color == 'green'):\n",
    "    print(\" - The player just earned 10 points.\")\n",
    "\n",
    "else :\n",
    "    print(\" - Alien is no more.....\")"
   ]
  },
  {
   "cell_type": "code",
   "execution_count": 23,
   "metadata": {},
   "outputs": [
    {
     "name": "stdout",
     "output_type": "stream",
     "text": [
      " 1). Enter Alien color : blue\n",
      " - Alien is no more.....\n"
     ]
    }
   ],
   "source": [
    "Alien_color = input(\" 1). Enter Alien color : \")\n",
    "\n",
    "if(Alien_color == 'red'):\n",
    "    print(\" - The player just earned 5 points for shooting the alien\")\n",
    "\n",
    "elif (Alien_color == 'green'):\n",
    "    print(\" - The player just earned 10 points.\")\n",
    "\n",
    "else :\n",
    "    print(\" - Alien is no more.....\")"
   ]
  },
  {
   "cell_type": "markdown",
   "metadata": {},
   "source": [
    "# Q10:"
   ]
  },
  {
   "cell_type": "markdown",
   "metadata": {},
   "source": [
    "## Write an if-elif-else chain that determines a person’s\n",
    "stage of life. Set a value for the variable age, and then:\n",
    "    \n",
    "•\t If the person is less than 2 years old, print a message that the person is a baby.\n",
    "\n",
    "•\t If the person is at least 2 years old but less than 4, print a message that the person is a toddler.\n",
    "\n",
    "•\t If the person is at least 4 years old but less than 13, print a message that the person is a kid.\n",
    "\n",
    "•\t If the person is at least 13 years old but less than 20, print a message that the person is a teenager.\n",
    "\n",
    "•\t If the person is at least 20 years old but less than 65, print a message that the person is an adult.\n",
    "\n",
    "•\t If the person is age 65 or older, print a message that the person is an elder."
   ]
  },
  {
   "cell_type": "code",
   "execution_count": 30,
   "metadata": {},
   "outputs": [
    {
     "name": "stdout",
     "output_type": "stream",
     "text": [
      " 1). Enter age : 25\n",
      " - The Person is a Adult.\n"
     ]
    }
   ],
   "source": [
    "personAge = int(input(\" 1). Enter age : \"))\n",
    "\n",
    "if personAge<=1:\n",
    "    print(\" - The Person is a Baby.\")\n",
    "elif personAge<=3:\n",
    "    print(\" - The person is a Toddler.\")\n",
    "elif personAge<=12:\n",
    "    print(\" - The person is a Kid.\")\n",
    "elif personAge<=19:\n",
    "    print(\" - The Person is a Teenager.\")\n",
    "elif personAge<=64:\n",
    "    print(\" - The Person is a Adult.\")\n",
    "else:\n",
    "    print(\" - The Person is an Elder.\")\n"
   ]
  },
  {
   "cell_type": "markdown",
   "metadata": {},
   "source": [
    "# Q11:"
   ]
  },
  {
   "cell_type": "markdown",
   "metadata": {},
   "source": [
    "Do the following to create a program that simulates how websites ensure that everyone has a unique username.\n",
    "\n",
    "•\t Make a list of five or more usernames called current_users.\n",
    "\n",
    "•\t Make another list of five usernames called new_users. \n",
    "Make sure one or two of the new usernames are also in the current_users list.\n",
    "\n",
    "•\t Loop through the new_users list to see if each new username has already been used. \n",
    "If it has, print a message that the person will need to enter a new username. \n",
    "If a username has not been used, print a message saying that the username is available.\n",
    "\n",
    "•\t Make sure your comparison is case insensitive. If 'John' has been used, 'JOHN' should not be accepted."
   ]
  },
  {
   "cell_type": "code",
   "execution_count": 61,
   "metadata": {},
   "outputs": [
    {
     "name": "stdout",
     "output_type": "stream",
     "text": [
      " -  The Username qasim is Already Taken. Please enter new Name.\n",
      " - The Username shahzed is available.\n",
      " - The Username zafar is available.\n",
      " - The Username iqbal is available.\n",
      " - The Username zeeshan is available.\n"
     ]
    }
   ],
   "source": [
    "current_users = [\"kashif\", \"qasim\", \"sheryar\", \"ali\", \"wahaj\" ]\n",
    "new_users = [\"qasim\", \"shahzed\", \"zafar\", \"iqbal\", \"zeeshan\" ]\n",
    "\n",
    "for i in new_users:\n",
    "    if i in current_users :\n",
    "        print(\" -  The Username\",i,\"is Already Taken. Please enter new Name.\")\n",
    "    else:\n",
    "        print(\" - The Username\",i,\"is available.\")"
   ]
  },
  {
   "cell_type": "markdown",
   "metadata": {},
   "source": [
    "# Q12:"
   ]
  },
  {
   "cell_type": "markdown",
   "metadata": {},
   "source": [
    "Use a dictionary to store information about a person you know.\n",
    "Store their first name, last name, age, and the city in which they live. \n",
    "You should have keys such as first_name, last_name, age, and city. \n",
    "Print each piece of information stored in your dictionary"
   ]
  },
  {
   "cell_type": "code",
   "execution_count": 75,
   "metadata": {},
   "outputs": [
    {
     "name": "stdout",
     "output_type": "stream",
     "text": [
      " - The First Name is  :  Asad\n",
      " - The Last Name is :  khan\n",
      " - The Age is :  30\n",
      " - The city in which the person is living :  Karachi\n"
     ]
    }
   ],
   "source": [
    "person = {\"first_Name\" : \"Asad\", \"last_Name\":\"khan\", \"age\": \"30\", \"city\": \"Karachi\"}\n",
    "\n",
    "print(\" - The First Name is  : \",person[\"first_Name\"])\n",
    "print(\" - The Last Name is : \",person[\"last_Name\"])\n",
    "print(\" - The Age is : \",person[\"age\"])\n",
    "print(\" - The city in which the person is living : \",person[\"city\"])"
   ]
  },
  {
   "cell_type": "markdown",
   "metadata": {},
   "source": [
    "# Q13:"
   ]
  },
  {
   "cell_type": "markdown",
   "metadata": {},
   "source": [
    "Starts with your last question 12 , loop through the dictionary’s keys and values.\n",
    "When you’re sure that your loop works, add five more Python terms to your\n",
    "dictionary . When you run your program again, these new words and meanings\n",
    "should automatically be included in the output."
   ]
  },
  {
   "cell_type": "code",
   "execution_count": 79,
   "metadata": {},
   "outputs": [
    {
     "name": "stdout",
     "output_type": "stream",
     "text": [
      " - The Person first_Name is Asad\n",
      " - The Person last_Name is khan\n",
      " - The Person age is 30\n",
      " - The Person city is Karachi\n",
      " - The Person gender is Male\n",
      " - The Person education is Master in Cs\n",
      " - The Person province is Sindh\n",
      " - The Person Religion is Islam\n",
      " - The Person income is 50000\n"
     ]
    }
   ],
   "source": [
    "for i, j in person.items():\n",
    "    print(\" - The Person\",i,\"is\",j)\n",
    "\n",
    "person[\"gender\"] = \"Male\"\n",
    "person[\"education\"] = \"Master in Cs\"\n",
    "person[\"province\"] = \"Sindh\"\n",
    "person[\"Religion\"] = \"Islam\"\n",
    "person[\"income\"] = \"50000\""
   ]
  },
  {
   "cell_type": "markdown",
   "metadata": {},
   "source": [
    "# Q14:"
   ]
  },
  {
   "cell_type": "markdown",
   "metadata": {},
   "source": [
    "Make a dictionary containing three major rivers and the country\n",
    "each river runs through. One key-value pair might be 'nile': 'egypt'.\n",
    "    \n",
    "    \n",
    "•\t Use a loop to print a sentence about each river, such as The Nile runs\n",
    "through Egypt.\n",
    "\n",
    "NOTE: use upper case through keys and values."
   ]
  },
  {
   "cell_type": "code",
   "execution_count": 80,
   "metadata": {},
   "outputs": [],
   "source": [
    "river = {\"Indus River\":\"Pakistan\", \"Yangtze River\":\"China\", \"Amazon River\":\"South America\"}"
   ]
  },
  {
   "cell_type": "code",
   "execution_count": 82,
   "metadata": {},
   "outputs": [
    {
     "name": "stdout",
     "output_type": "stream",
     "text": [
      " - Indus River runs through Pakistan\n",
      " - Yangtze River runs through China\n",
      " - Amazon River runs through South America\n"
     ]
    }
   ],
   "source": [
    "for i,j in river.items():\n",
    "    print(\" -\",i,\"runs through\",j)"
   ]
  },
  {
   "cell_type": "markdown",
   "metadata": {},
   "source": [
    "# Q15:"
   ]
  },
  {
   "cell_type": "markdown",
   "metadata": {},
   "source": [
    "Make several dictionaries, where the name of each dictionary is the\n",
    "name of a pet. In each dictionary, include the kind of animal and the owner’s\n",
    "name. Store these dictionaries in a list called pets. Next, loop through your list\n",
    "and as you do print everything you know about each pet."
   ]
  },
  {
   "cell_type": "code",
   "execution_count": 85,
   "metadata": {},
   "outputs": [
    {
     "name": "stdout",
     "output_type": "stream",
     "text": [
      " - {'kind': 'german', 'owner': 'qasim'}\n",
      " - {'kind': 'Persian', 'owner': 'Bilal'}\n",
      " - {'kind': 'Australlian', 'owner': 'Ali'}\n"
     ]
    }
   ],
   "source": [
    "dog={'kind':\"german\",\"owner\":\"qasim\"}\n",
    "cat={\"kind\":\"Persian\",\"owner\":\"Bilal\"}\n",
    "parrot={\"kind\":\"Australlian\",\"owner\":\"Ali\"}\n",
    "\n",
    "pet=[dog,cat,parrot]\n",
    "\n",
    "for i in pet:\n",
    "    print(\" -\",i)"
   ]
  },
  {
   "cell_type": "code",
   "execution_count": null,
   "metadata": {},
   "outputs": [],
   "source": []
  }
 ],
 "metadata": {
  "kernelspec": {
   "display_name": "Python 3",
   "language": "python",
   "name": "python3"
  },
  "language_info": {
   "codemirror_mode": {
    "name": "ipython",
    "version": 3
   },
   "file_extension": ".py",
   "mimetype": "text/x-python",
   "name": "python",
   "nbconvert_exporter": "python",
   "pygments_lexer": "ipython3",
   "version": "3.7.3"
  }
 },
 "nbformat": 4,
 "nbformat_minor": 2
}
